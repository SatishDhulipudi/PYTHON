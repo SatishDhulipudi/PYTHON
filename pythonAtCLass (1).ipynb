{
 "cells": [
  {
   "cell_type": "markdown",
   "id": "3645d0c8-2381-47d0-b511-b244cfb9ab42",
   "metadata": {},
   "source": [
    "# Python First Code"
   ]
  },
  {
   "cell_type": "markdown",
   "id": "dd883b80-714f-4a1f-90a9-6ac6cb1610f0",
   "metadata": {},
   "source": [
    "lets work with numbers"
   ]
  },
  {
   "cell_type": "code",
   "execution_count": 3,
   "id": "cefcf92b-cf8f-44b4-b547-81f6765f1f5a",
   "metadata": {},
   "outputs": [
    {
     "data": {
      "text/plain": [
       "15"
      ]
     },
     "execution_count": 3,
     "metadata": {},
     "output_type": "execute_result"
    }
   ],
   "source": [
    "10+5"
   ]
  },
  {
   "cell_type": "code",
   "execution_count": 5,
   "id": "088d0f37-2232-42ad-a45c-53b5538e94c5",
   "metadata": {},
   "outputs": [
    {
     "data": {
      "text/plain": [
       "50"
      ]
     },
     "execution_count": 5,
     "metadata": {},
     "output_type": "execute_result"
    }
   ],
   "source": [
    "10*5"
   ]
  },
  {
   "cell_type": "code",
   "execution_count": 7,
   "id": "0fd7b12c-7108-471b-84f9-c29f467f9f73",
   "metadata": {},
   "outputs": [
    {
     "data": {
      "text/plain": [
       "2.0"
      ]
     },
     "execution_count": 7,
     "metadata": {},
     "output_type": "execute_result"
    }
   ],
   "source": [
    "10/5"
   ]
  },
  {
   "cell_type": "code",
   "execution_count": 9,
   "id": "ab4d0fb8-6ee6-4442-afc7-1de7160c0e0b",
   "metadata": {},
   "outputs": [
    {
     "data": {
      "text/plain": [
       "2"
      ]
     },
     "execution_count": 9,
     "metadata": {},
     "output_type": "execute_result"
    }
   ],
   "source": [
    "10//5"
   ]
  },
  {
   "cell_type": "code",
   "execution_count": 11,
   "id": "e820554b-d51b-4172-bc0e-de7be7f97d24",
   "metadata": {},
   "outputs": [
    {
     "data": {
      "text/plain": [
       "14"
      ]
     },
     "execution_count": 11,
     "metadata": {},
     "output_type": "execute_result"
    }
   ],
   "source": [
    "(10+5)-7+6"
   ]
  },
  {
   "cell_type": "code",
   "execution_count": 13,
   "id": "e4ab6f95-892d-4627-be95-148b3f2d799a",
   "metadata": {},
   "outputs": [
    {
     "data": {
      "text/plain": [
       "30"
      ]
     },
     "execution_count": 13,
     "metadata": {},
     "output_type": "execute_result"
    }
   ],
   "source": [
    "5+(5*5)"
   ]
  },
  {
   "cell_type": "code",
   "execution_count": 17,
   "id": "5c82e26b-0495-4629-a749-ea53a08b8dfd",
   "metadata": {},
   "outputs": [
    {
     "data": {
      "text/plain": [
       "50"
      ]
     },
     "execution_count": 17,
     "metadata": {},
     "output_type": "execute_result"
    }
   ],
   "source": [
    "5*(5+5)"
   ]
  },
  {
   "cell_type": "code",
   "execution_count": 19,
   "id": "0b583e38-3bca-4047-a995-916e85d67361",
   "metadata": {},
   "outputs": [
    {
     "ename": "TypeError",
     "evalue": "can only concatenate str (not \"int\") to str",
     "output_type": "error",
     "traceback": [
      "\u001b[1;31m---------------------------------------------------------------------------\u001b[0m",
      "\u001b[1;31mTypeError\u001b[0m                                 Traceback (most recent call last)",
      "Cell \u001b[1;32mIn[19], line 1\u001b[0m\n\u001b[1;32m----> 1\u001b[0m _\u001b[38;5;241m+\u001b[39m\u001b[38;5;241m3\u001b[39m\n",
      "\u001b[1;31mTypeError\u001b[0m: can only concatenate str (not \"int\") to str"
     ]
    }
   ],
   "source": [
    "_+3"
   ]
  },
  {
   "cell_type": "code",
   "execution_count": 23,
   "id": "db3ec938-7758-410c-8237-6e1e1c04fe9b",
   "metadata": {},
   "outputs": [
    {
     "data": {
      "text/plain": [
       "'3.12.4 | packaged by Anaconda, Inc. | (main, Jun 18 2024, 15:03:56) [MSC v.1929 64 bit (AMD64)]'"
      ]
     },
     "execution_count": 23,
     "metadata": {},
     "output_type": "execute_result"
    }
   ],
   "source": [
    "import sys\n",
    "sys.version"
   ]
  },
  {
   "cell_type": "code",
   "execution_count": 25,
   "id": "22024e4d-e90d-4f41-bffc-076a7a24bda1",
   "metadata": {},
   "outputs": [
    {
     "name": "stdout",
     "output_type": "stream",
     "text": [
      "2\n",
      "3\n",
      "4\n"
     ]
    }
   ],
   "source": [
    "print(1+1)\n",
    "print(2+1)\n",
    "print(3+1)"
   ]
  },
  {
   "cell_type": "code",
   "execution_count": 29,
   "id": "3ed32ace-5737-4c4c-b436-db8a74be402b",
   "metadata": {},
   "outputs": [
    {
     "name": "stdout",
     "output_type": "stream",
     "text": [
      "10\n",
      "10 20\n",
      "python\n",
      "10 20 python\n"
     ]
    }
   ],
   "source": [
    "print(10)\n",
    "print(10,20)\n",
    "print('python')\n",
    "print(10,20,'python')"
   ]
  },
  {
   "cell_type": "code",
   "execution_count": 1,
   "id": "c68d1262-a850-4c0c-b300-9cf60889d792",
   "metadata": {},
   "outputs": [
    {
     "name": "stdout",
     "output_type": "stream",
     "text": [
      "3\n",
      "4\n",
      "5\n"
     ]
    }
   ],
   "source": [
    "print(1+2)\n",
    "print(1+3)\n",
    "print(1+4)"
   ]
  },
  {
   "cell_type": "markdown",
   "id": "72cbec42-fda3-435f-aee2-aa3e4cfb0f51",
   "metadata": {},
   "source": [
    "# python variable concept = python identifier concept\n",
    ". syntax of define  || ( varebale name = value )"
   ]
  },
  {
   "cell_type": "code",
   "execution_count": 2,
   "id": "7f8a4c20-f23d-486b-b242-a178b3825fc3",
   "metadata": {},
   "outputs": [
    {
     "data": {
      "text/plain": [
       "20"
      ]
     },
     "execution_count": 2,
     "metadata": {},
     "output_type": "execute_result"
    }
   ],
   "source": [
    "nit = 20\n",
    "nit"
   ]
  },
  {
   "cell_type": "code",
   "execution_count": 4,
   "id": "93131c0c-99ca-4c95-8e66-d254d367233b",
   "metadata": {},
   "outputs": [
    {
     "data": {
      "text/plain": [
       "10"
      ]
     },
     "execution_count": 4,
     "metadata": {},
     "output_type": "execute_result"
    }
   ],
   "source": [
    "v =  10\n",
    "v"
   ]
  },
  {
   "cell_type": "code",
   "execution_count": 6,
   "id": "7b36b6ee-7556-43f9-a487-110528f7d5ca",
   "metadata": {},
   "outputs": [
    {
     "name": "stdout",
     "output_type": "stream",
     "text": [
      "10\n",
      "20\n"
     ]
    }
   ],
   "source": [
    "print (v)\n",
    "print (nit)"
   ]
  },
  {
   "cell_type": "markdown",
   "id": "12699803-e9cf-4714-ac23-b68ba741a178",
   "metadata": {},
   "source": [
    "# python type casting type conversion"
   ]
  },
  {
   "cell_type": "code",
   "execution_count": 4,
   "id": "60e73da2-8a4a-4928-ac35-ff84152d8b6e",
   "metadata": {},
   "outputs": [
    {
     "data": {
      "text/plain": [
       "2"
      ]
     },
     "execution_count": 4,
     "metadata": {},
     "output_type": "execute_result"
    }
   ],
   "source": [
    "int(2.5) #float to int"
   ]
  },
  {
   "cell_type": "code",
   "execution_count": 6,
   "id": "dc98301e-5cf5-4376-ac39-977f3874cefa",
   "metadata": {},
   "outputs": [
    {
     "data": {
      "text/plain": [
       "1"
      ]
     },
     "execution_count": 6,
     "metadata": {},
     "output_type": "execute_result"
    }
   ],
   "source": [
    "int(True) #bool to int\n"
   ]
  },
  {
   "cell_type": "code",
   "execution_count": 10,
   "id": "41132dbb-ce62-4481-a4ab-17c410f0d0da",
   "metadata": {},
   "outputs": [
    {
     "ename": "TypeError",
     "evalue": "int() argument must be a string, a bytes-like object or a real number, not 'complex'",
     "output_type": "error",
     "traceback": [
      "\u001b[1;31m---------------------------------------------------------------------------\u001b[0m",
      "\u001b[1;31mTypeError\u001b[0m                                 Traceback (most recent call last)",
      "Cell \u001b[1;32mIn[10], line 1\u001b[0m\n\u001b[1;32m----> 1\u001b[0m \u001b[38;5;28mint\u001b[39m(\u001b[38;5;241m1\u001b[39m\u001b[38;5;241m+\u001b[39m\u001b[38;5;241m2\u001b[39mj)\n",
      "\u001b[1;31mTypeError\u001b[0m: int() argument must be a string, a bytes-like object or a real number, not 'complex'"
     ]
    }
   ],
   "source": [
    "int(1+2j) #cpmlex to int not possible"
   ]
  },
  {
   "cell_type": "code",
   "execution_count": 14,
   "id": "3d720b35-71a6-4632-95e8-f758fa668f12",
   "metadata": {},
   "outputs": [
    {
     "data": {
      "text/plain": [
       "10"
      ]
     },
     "execution_count": 14,
     "metadata": {},
     "output_type": "execute_result"
    }
   ],
   "source": [
    "int('10')"
   ]
  },
  {
   "cell_type": "code",
   "execution_count": 18,
   "id": "f3a8e479-447e-4a87-858d-f5580e05199a",
   "metadata": {},
   "outputs": [
    {
     "ename": "SyntaxError",
     "evalue": "unterminated string literal (detected at line 1) (298030488.py, line 1)",
     "output_type": "error",
     "traceback": [
      "\u001b[1;36m  Cell \u001b[1;32mIn[18], line 1\u001b[1;36m\u001b[0m\n\u001b[1;33m    int('ten\") #string is not in letters\u001b[0m\n\u001b[1;37m        ^\u001b[0m\n\u001b[1;31mSyntaxError\u001b[0m\u001b[1;31m:\u001b[0m unterminated string literal (detected at line 1)\n"
     ]
    }
   ],
   "source": [
    "int('ten\") #string is not in letters"
   ]
  },
  {
   "cell_type": "code",
   "execution_count": 24,
   "id": "49066ad9-1f6a-494f-9491-bd99d7f4d70c",
   "metadata": {},
   "outputs": [
    {
     "data": {
      "text/plain": [
       "10"
      ]
     },
     "execution_count": 24,
     "metadata": {},
     "output_type": "execute_result"
    }
   ],
   "source": [
    "s1= 10\n",
    "s1"
   ]
  },
  {
   "cell_type": "code",
   "execution_count": 30,
   "id": "41a72ceb-3de0-474f-ab43-a8f4fd80b201",
   "metadata": {},
   "outputs": [
    {
     "ename": "NameError",
     "evalue": "name 's1' is not defined",
     "output_type": "error",
     "traceback": [
      "\u001b[1;31m---------------------------------------------------------------------------\u001b[0m",
      "\u001b[1;31mNameError\u001b[0m                                 Traceback (most recent call last)",
      "Cell \u001b[1;32mIn[30], line 1\u001b[0m\n\u001b[1;32m----> 1\u001b[0m \u001b[38;5;28;01mdel\u001b[39;00m s1\n",
      "\u001b[1;31mNameError\u001b[0m: name 's1' is not defined"
     ]
    }
   ],
   "source": [
    "del s1 # del means delete"
   ]
  },
  {
   "cell_type": "code",
   "execution_count": 28,
   "id": "629a6432-b674-45ae-9977-54223e5356a8",
   "metadata": {},
   "outputs": [
    {
     "ename": "NameError",
     "evalue": "name 's1' is not defined",
     "output_type": "error",
     "traceback": [
      "\u001b[1;31m---------------------------------------------------------------------------\u001b[0m",
      "\u001b[1;31mNameError\u001b[0m                                 Traceback (most recent call last)",
      "Cell \u001b[1;32mIn[28], line 1\u001b[0m\n\u001b[1;32m----> 1\u001b[0m s1\n",
      "\u001b[1;31mNameError\u001b[0m: name 's1' is not defined"
     ]
    }
   ],
   "source": [
    "s1"
   ]
  },
  {
   "cell_type": "code",
   "execution_count": 34,
   "id": "669c7865-6d74-4b33-bf42-aa84d6dc146d",
   "metadata": {},
   "outputs": [
    {
     "data": {
      "text/plain": [
       "10.5"
      ]
     },
     "execution_count": 34,
     "metadata": {},
     "output_type": "execute_result"
    }
   ],
   "source": [
    "s1= 10.5\n",
    "s1"
   ]
  },
  {
   "cell_type": "code",
   "execution_count": 36,
   "id": "4b3fd09b-5b77-4cc8-a894-be663d471bd4",
   "metadata": {},
   "outputs": [
    {
     "ename": "NameError",
     "evalue": "name 'np' is not defined",
     "output_type": "error",
     "traceback": [
      "\u001b[1;31m---------------------------------------------------------------------------\u001b[0m",
      "\u001b[1;31mNameError\u001b[0m                                 Traceback (most recent call last)",
      "Cell \u001b[1;32mIn[36], line 1\u001b[0m\n\u001b[1;32m----> 1\u001b[0m np\u001b[38;5;241m.\u001b[39mnun\n",
      "\u001b[1;31mNameError\u001b[0m: name 'np' is not defined"
     ]
    }
   ],
   "source": [
    "np.nun"
   ]
  },
  {
   "cell_type": "code",
   "execution_count": 44,
   "id": "1d76be74-6490-44cc-9781-d92d0c8d4d18",
   "metadata": {},
   "outputs": [],
   "source": [
    "import numpy as np\n",
    "a = np.nan"
   ]
  },
  {
   "cell_type": "code",
   "execution_count": 46,
   "id": "96715a96-28d7-4d46-b450-59672828b252",
   "metadata": {},
   "outputs": [
    {
     "name": "stdout",
     "output_type": "stream",
     "text": [
      "nan\n"
     ]
    }
   ],
   "source": [
    "print(a)"
   ]
  },
  {
   "cell_type": "code",
   "execution_count": 48,
   "id": "ce98cab0-a62b-42c4-ba05-0b656c0ef2a0",
   "metadata": {},
   "outputs": [
    {
     "data": {
      "text/plain": [
       "float"
      ]
     },
     "execution_count": 48,
     "metadata": {},
     "output_type": "execute_result"
    }
   ],
   "source": [
    "type(a)"
   ]
  },
  {
   "cell_type": "markdown",
   "id": "26f02294-cc6c-4c6d-ad4c-7828fb24c396",
   "metadata": {},
   "source": [
    "# 25 Oct Class"
   ]
  },
  {
   "cell_type": "code",
   "execution_count": 2,
   "id": "19efa90c-040b-46ff-9dd2-74fe9f0ac2b6",
   "metadata": {},
   "outputs": [
    {
     "data": {
      "text/plain": [
       "3.0"
      ]
     },
     "execution_count": 2,
     "metadata": {},
     "output_type": "execute_result"
    }
   ],
   "source": [
    "float(3)"
   ]
  },
  {
   "cell_type": "code",
   "execution_count": 4,
   "id": "149d7615-e969-4a92-a35a-731ac363af4b",
   "metadata": {},
   "outputs": [
    {
     "data": {
      "text/plain": [
       "1.0"
      ]
     },
     "execution_count": 4,
     "metadata": {},
     "output_type": "execute_result"
    }
   ],
   "source": [
    "float(True)"
   ]
  },
  {
   "cell_type": "code",
   "execution_count": 6,
   "id": "5d71e46f-5993-4ec9-bd5f-3365e204f55a",
   "metadata": {},
   "outputs": [
    {
     "ename": "TypeError",
     "evalue": "float() argument must be a string or a real number, not 'complex'",
     "output_type": "error",
     "traceback": [
      "\u001b[1;31m---------------------------------------------------------------------------\u001b[0m",
      "\u001b[1;31mTypeError\u001b[0m                                 Traceback (most recent call last)",
      "Cell \u001b[1;32mIn[6], line 1\u001b[0m\n\u001b[1;32m----> 1\u001b[0m \u001b[38;5;28mfloat\u001b[39m(\u001b[38;5;241m2\u001b[39m\u001b[38;5;241m+\u001b[39m\u001b[38;5;241m3\u001b[39mj)\n",
      "\u001b[1;31mTypeError\u001b[0m: float() argument must be a string or a real number, not 'complex'"
     ]
    }
   ],
   "source": [
    "float(2+3j)"
   ]
  },
  {
   "cell_type": "code",
   "execution_count": 8,
   "id": "928a673a-ac4c-404b-991e-6aec69fa2bde",
   "metadata": {},
   "outputs": [
    {
     "ename": "TypeError",
     "evalue": "float expected at most 1 argument, got 2",
     "output_type": "error",
     "traceback": [
      "\u001b[1;31m---------------------------------------------------------------------------\u001b[0m",
      "\u001b[1;31mTypeError\u001b[0m                                 Traceback (most recent call last)",
      "Cell \u001b[1;32mIn[8], line 1\u001b[0m\n\u001b[1;32m----> 1\u001b[0m \u001b[38;5;28mfloat\u001b[39m(\u001b[38;5;241m3\u001b[39m,\u001b[38;5;241m4\u001b[39m)\n",
      "\u001b[1;31mTypeError\u001b[0m: float expected at most 1 argument, got 2"
     ]
    }
   ],
   "source": [
    "float(3,4) #only one argument contains"
   ]
  },
  {
   "cell_type": "code",
   "execution_count": 10,
   "id": "0866ebc5-6982-47a0-aa28-e452a496aedd",
   "metadata": {},
   "outputs": [
    {
     "data": {
      "text/plain": [
       "10.0"
      ]
     },
     "execution_count": 10,
     "metadata": {},
     "output_type": "execute_result"
    }
   ],
   "source": [
    "float(10)"
   ]
  },
  {
   "cell_type": "code",
   "execution_count": 12,
   "id": "ec83851f-6e2b-4cf0-a39f-b5ab1b4994b2",
   "metadata": {},
   "outputs": [
    {
     "ename": "NameError",
     "evalue": "name 'ten' is not defined",
     "output_type": "error",
     "traceback": [
      "\u001b[1;31m---------------------------------------------------------------------------\u001b[0m",
      "\u001b[1;31mNameError\u001b[0m                                 Traceback (most recent call last)",
      "Cell \u001b[1;32mIn[12], line 1\u001b[0m\n\u001b[1;32m----> 1\u001b[0m \u001b[38;5;28mfloat\u001b[39m(ten)\n",
      "\u001b[1;31mNameError\u001b[0m: name 'ten' is not defined"
     ]
    }
   ],
   "source": [
    "float('ten') #degits not existed"
   ]
  },
  {
   "cell_type": "code",
   "execution_count": 14,
   "id": "eb4a9d9c-fa4e-4ed8-b710-21817024bede",
   "metadata": {},
   "outputs": [
    {
     "data": {
      "text/plain": [
       "(10+0j)"
      ]
     },
     "execution_count": 14,
     "metadata": {},
     "output_type": "execute_result"
    }
   ],
   "source": [
    "complex(10)"
   ]
  },
  {
   "cell_type": "code",
   "execution_count": 18,
   "id": "67ba15c4-6ba8-4d33-bdff-db5307d6ecd0",
   "metadata": {},
   "outputs": [
    {
     "data": {
      "text/plain": [
       "(10+20j)"
      ]
     },
     "execution_count": 18,
     "metadata": {},
     "output_type": "execute_result"
    }
   ],
   "source": [
    "complex(10,20)"
   ]
  },
  {
   "cell_type": "code",
   "execution_count": 22,
   "id": "09d0016a-6c62-43a6-bc6f-10a2813d94ad",
   "metadata": {},
   "outputs": [
    {
     "ename": "TypeError",
     "evalue": "complex() takes at most 2 arguments (3 given)",
     "output_type": "error",
     "traceback": [
      "\u001b[1;31m---------------------------------------------------------------------------\u001b[0m",
      "\u001b[1;31mTypeError\u001b[0m                                 Traceback (most recent call last)",
      "Cell \u001b[1;32mIn[22], line 1\u001b[0m\n\u001b[1;32m----> 1\u001b[0m \u001b[38;5;28mcomplex\u001b[39m(\u001b[38;5;241m10\u001b[39m,\u001b[38;5;241m20\u001b[39m,\u001b[38;5;241m30\u001b[39m)\n",
      "\u001b[1;31mTypeError\u001b[0m: complex() takes at most 2 arguments (3 given)"
     ]
    }
   ],
   "source": [
    "complex(10,20,30) #it contains only two arguments"
   ]
  },
  {
   "cell_type": "code",
   "execution_count": 26,
   "id": "db5be69a-0336-438a-8d3a-3a464a909fdf",
   "metadata": {},
   "outputs": [
    {
     "data": {
      "text/plain": [
       "(2.3+0j)"
      ]
     },
     "execution_count": 26,
     "metadata": {},
     "output_type": "execute_result"
    }
   ],
   "source": [
    "complex(2.3)"
   ]
  },
  {
   "cell_type": "code",
   "execution_count": 28,
   "id": "d53b33b2-65ef-44c9-b1f3-fa0237b77090",
   "metadata": {},
   "outputs": [
    {
     "data": {
      "text/plain": [
       "(2.3+10j)"
      ]
     },
     "execution_count": 28,
     "metadata": {},
     "output_type": "execute_result"
    }
   ],
   "source": [
    "complex(2.3,10)"
   ]
  },
  {
   "cell_type": "code",
   "execution_count": 30,
   "id": "50764992-b4cd-47ee-aadb-2f0443d0e305",
   "metadata": {},
   "outputs": [
    {
     "data": {
      "text/plain": [
       "(1+0j)"
      ]
     },
     "execution_count": 30,
     "metadata": {},
     "output_type": "execute_result"
    }
   ],
   "source": [
    "complex(True)"
   ]
  },
  {
   "cell_type": "code",
   "execution_count": 35,
   "id": "548efd16-9359-4323-9b22-dee38e7244f2",
   "metadata": {},
   "outputs": [
    {
     "data": {
      "text/plain": [
       "0j"
      ]
     },
     "execution_count": 35,
     "metadata": {},
     "output_type": "execute_result"
    }
   ],
   "source": [
    "complex(False)"
   ]
  },
  {
   "cell_type": "code",
   "execution_count": 37,
   "id": "b1205797-db5e-4dcd-bd97-936a83d75464",
   "metadata": {},
   "outputs": [
    {
     "data": {
      "text/plain": [
       "(10+0j)"
      ]
     },
     "execution_count": 37,
     "metadata": {},
     "output_type": "execute_result"
    }
   ],
   "source": [
    "complex('10')"
   ]
  },
  {
   "cell_type": "code",
   "execution_count": 43,
   "id": "63940980-3726-4e50-b0a7-cba4886a40cd",
   "metadata": {},
   "outputs": [
    {
     "data": {
      "text/plain": [
       "True"
      ]
     },
     "execution_count": 43,
     "metadata": {},
     "output_type": "execute_result"
    }
   ],
   "source": [
    "bool(1)"
   ]
  },
  {
   "cell_type": "code",
   "execution_count": 41,
   "id": "6d2b53d1-38e5-4256-bbe5-f31c6a5c5e6d",
   "metadata": {},
   "outputs": [
    {
     "data": {
      "text/plain": [
       "False"
      ]
     },
     "execution_count": 41,
     "metadata": {},
     "output_type": "execute_result"
    }
   ],
   "source": [
    "bool(0)"
   ]
  },
  {
   "cell_type": "code",
   "execution_count": 47,
   "id": "8faae1aa-935b-41f5-921b-4ae1d527d6b3",
   "metadata": {},
   "outputs": [
    {
     "data": {
      "text/plain": [
       "True"
      ]
     },
     "execution_count": 47,
     "metadata": {},
     "output_type": "execute_result"
    }
   ],
   "source": [
    "bool(2.4)"
   ]
  },
  {
   "cell_type": "code",
   "execution_count": 49,
   "id": "5883527e-c910-4426-b40a-de52ab98f3a7",
   "metadata": {},
   "outputs": [
    {
     "data": {
      "text/plain": [
       "False"
      ]
     },
     "execution_count": 49,
     "metadata": {},
     "output_type": "execute_result"
    }
   ],
   "source": [
    "bool()"
   ]
  },
  {
   "cell_type": "code",
   "execution_count": 51,
   "id": "dba89759-c7a9-4d75-8a84-d3f22efce554",
   "metadata": {},
   "outputs": [
    {
     "data": {
      "text/plain": [
       "False"
      ]
     },
     "execution_count": 51,
     "metadata": {},
     "output_type": "execute_result"
    }
   ],
   "source": [
    "bool( )"
   ]
  },
  {
   "cell_type": "code",
   "execution_count": 53,
   "id": "9abcda39-84d3-4f2f-befc-434eaaade77c",
   "metadata": {},
   "outputs": [
    {
     "data": {
      "text/plain": [
       "True"
      ]
     },
     "execution_count": 53,
     "metadata": {},
     "output_type": "execute_result"
    }
   ],
   "source": [
    "bool('nit')"
   ]
  },
  {
   "cell_type": "code",
   "execution_count": 55,
   "id": "d45c2469-ee5a-49f8-8f6b-a84141e6f5c8",
   "metadata": {},
   "outputs": [
    {
     "data": {
      "text/plain": [
       "True"
      ]
     },
     "execution_count": 55,
     "metadata": {},
     "output_type": "execute_result"
    }
   ],
   "source": [
    "bool(10+2j)"
   ]
  },
  {
   "cell_type": "code",
   "execution_count": 57,
   "id": "00ac8ca3-b8d8-472f-a5cb-987a7306e5db",
   "metadata": {},
   "outputs": [
    {
     "data": {
      "text/plain": [
       "False"
      ]
     },
     "execution_count": 57,
     "metadata": {},
     "output_type": "execute_result"
    }
   ],
   "source": [
    "bool(0+0j)"
   ]
  },
  {
   "cell_type": "code",
   "execution_count": 59,
   "id": "6d34bb66-276e-4925-ba81-85741066f327",
   "metadata": {},
   "outputs": [
    {
     "name": "stdout",
     "output_type": "stream",
     "text": [
      "2\n",
      "2.4\n",
      "True\n",
      "(1+3j)\n"
     ]
    }
   ],
   "source": [
    "print(str(2))\n",
    "print(str(2.4))\n",
    "print(str(True))\n",
    "print(str(1+3j))"
   ]
  },
  {
   "cell_type": "markdown",
   "id": "f9d4d9ba-0d1a-4b0f-9f52-cec2f4d6c56f",
   "metadata": {},
   "source": [
    "## python type casting (converting all other data  type to one data type)"
   ]
  },
  {
   "cell_type": "code",
   "execution_count": 65,
   "id": "2815eaae-25bd-4fca-aeff-b69cfbd72d4e",
   "metadata": {},
   "outputs": [
    {
     "data": {
      "text/plain": [
       "'HELLOPYTHON'"
      ]
     },
     "execution_count": 65,
     "metadata": {},
     "output_type": "execute_result"
    }
   ],
   "source": [
    "index = 'HELLOPYTHON'\n",
    "index"
   ]
  },
  {
   "cell_type": "code",
   "execution_count": 67,
   "id": "d0dc3bc7-de02-4321-8f4a-b4a212fabac9",
   "metadata": {},
   "outputs": [
    {
     "data": {
      "text/plain": [
       "'HELLOPYTHON'"
      ]
     },
     "execution_count": 67,
     "metadata": {},
     "output_type": "execute_result"
    }
   ],
   "source": [
    "index[:]"
   ]
  },
  {
   "cell_type": "code",
   "execution_count": 71,
   "id": "7d5b63cb-ed57-40e1-baaf-c67153fabdbe",
   "metadata": {},
   "outputs": [
    {
     "data": {
      "text/plain": [
       "'NOHTYPOLLEH'"
      ]
     },
     "execution_count": 71,
     "metadata": {},
     "output_type": "execute_result"
    }
   ],
   "source": [
    "index[::-1]"
   ]
  },
  {
   "cell_type": "code",
   "execution_count": 73,
   "id": "bae1e669-5adc-472f-92d8-e94204e7719c",
   "metadata": {},
   "outputs": [
    {
     "data": {
      "text/plain": [
       "'NHYOLH'"
      ]
     },
     "execution_count": 73,
     "metadata": {},
     "output_type": "execute_result"
    }
   ],
   "source": [
    "index[::-2]"
   ]
  },
  {
   "cell_type": "code",
   "execution_count": 81,
   "id": "2c501b27-c308-461d-b363-ae0b0fcbaf05",
   "metadata": {},
   "outputs": [
    {
     "data": {
      "text/plain": [
       "'HELLOPYTHON'"
      ]
     },
     "execution_count": 81,
     "metadata": {},
     "output_type": "execute_result"
    }
   ],
   "source": [
    "index"
   ]
  },
  {
   "cell_type": "code",
   "execution_count": 75,
   "id": "fa4c3fb3-7f31-427e-b36a-a1e0a73a5001",
   "metadata": {},
   "outputs": [
    {
     "data": {
      "text/plain": [
       "'HELLOPYTHON'"
      ]
     },
     "execution_count": 75,
     "metadata": {},
     "output_type": "execute_result"
    }
   ],
   "source": [
    "index"
   ]
  },
  {
   "cell_type": "code",
   "execution_count": 79,
   "id": "f7f330ba-5954-4dbc-bbaf-b7f64c1f7ea0",
   "metadata": {},
   "outputs": [
    {
     "data": {
      "text/plain": [
       "'NYL'"
      ]
     },
     "execution_count": 79,
     "metadata": {},
     "output_type": "execute_result"
    }
   ],
   "source": [
    "index[::-4]"
   ]
  },
  {
   "cell_type": "code",
   "execution_count": 83,
   "id": "f44a2d6f-b8cc-4b3b-a2f4-305e519bdb27",
   "metadata": {},
   "outputs": [
    {
     "data": {
      "text/plain": [
       "'HELLOPYTHON'"
      ]
     },
     "execution_count": 83,
     "metadata": {},
     "output_type": "execute_result"
    }
   ],
   "source": [
    "index"
   ]
  },
  {
   "cell_type": "code",
   "execution_count": 85,
   "id": "0dfbbba2-f3a5-481d-8624-8b203719466f",
   "metadata": {},
   "outputs": [
    {
     "data": {
      "text/plain": [
       "'EOT'"
      ]
     },
     "execution_count": 85,
     "metadata": {},
     "output_type": "execute_result"
    }
   ],
   "source": [
    "index[1:10:3]"
   ]
  },
  {
   "cell_type": "markdown",
   "id": "2255231d-eee0-479c-8159-156f6420c59c",
   "metadata": {},
   "source": [
    "# Python type casting we are completed"
   ]
  },
  {
   "cell_type": "code",
   "execution_count": 94,
   "id": "c135224c-fb10-48a0-863f-b52a279a6332",
   "metadata": {},
   "outputs": [
    {
     "data": {
      "image/png": "[encoded data removed]",
      "text/plain": [
       "<Figure size 640x480 with 1 Axes>"
      ]
     },
     "metadata": {},
     "output_type": "display_data"
    }
   ],
   "source": [
    "import matplotlib.pyplot as plt\n",
    "plt.plot([1, 2, 3, 4])\n",
    "plt.ylabel('numbers')\n",
    "plt.show()"
   ]
  },
  {
   "cell_type": "code",
   "execution_count": 96,
   "id": "caf1fbbb-7022-4c0f-8054-c252a552438f",
   "metadata": {},
   "outputs": [
    {
     "data": {
      "image/png": "[encoded data removed]",
      "text/plain": [
       "<Figure size 640x480 with 1 Axes>"
      ]
     },
     "metadata": {},
     "output_type": "display_data"
    }
   ],
   "source": [
    "import matplotlib.pyplot as plt\n",
    "plt.plot([3, 5, 2, 1, 7])\n",
    "plt.ylabel('numbers')\n",
    "plt.show()"
   ]
  },
  {
   "cell_type": "code",
   "execution_count": 100,
   "id": "5ce8447d-3bf0-4f75-9f81-903f83a12c49",
   "metadata": {},
   "outputs": [
    {
     "data": {
      "image/png": "[encoded data removed]",
      "text/plain": [
       "<Figure size 640x480 with 1 Axes>"
      ]
     },
     "metadata": {},
     "output_type": "display_data"
    }
   ],
   "source": [
    "import matplotlib.pyplot as plt\n",
    "plt.plot([10, 27, 30, 66])\n",
    "plt.ylabel('numbers')\n",
    "plt.show()"
   ]
  },
  {
   "cell_type": "code",
   "execution_count": null,
   "id": "a261d4f2-b864-4894-a6e8-dc0bd87bde57",
   "metadata": {},
   "outputs": [],
   "source": []
  },
  {
   "cell_type": "code",
   "execution_count": null,
   "id": "6136673e-991c-4372-b4e7-b3fa28607ab1",
   "metadata": {},
   "outputs": [],
   "source": []
  },
  {
   "cell_type": "code",
   "execution_count": null,
   "id": "fc6c7914-92e6-475a-a6a8-d25d17de6197",
   "metadata": {},
   "outputs": [],
   "source": []
  },
  {
   "cell_type": "code",
   "execution_count": null,
   "id": "c2ec5d27-4f92-4fb0-86f3-02cc8f18957b",
   "metadata": {},
   "outputs": [],
   "source": []
  },
  {
   "cell_type": "code",
   "execution_count": null,
   "id": "0ad0bde5-2d09-4d07-9e24-250cf6594975",
   "metadata": {},
   "outputs": [],
   "source": []
  },
  {
   "cell_type": "code",
   "execution_count": null,
   "id": "e7fba713-8170-4b9a-872e-50858e4359d9",
   "metadata": {},
   "outputs": [],
   "source": []
  },
  {
   "cell_type": "code",
   "execution_count": null,
   "id": "d00c91ff-35c8-4c84-bf2b-e64b977ebcde",
   "metadata": {},
   "outputs": [],
   "source": []
  },
  {
   "cell_type": "code",
   "execution_count": null,
   "id": "3c9ffa7c-1ad9-4138-8be2-4ad92c1bdf81",
   "metadata": {},
   "outputs": [],
   "source": []
  },
  {
   "cell_type": "code",
   "execution_count": null,
   "id": "259516b8-cbb1-48b9-8cbc-cf058c2f74ef",
   "metadata": {},
   "outputs": [],
   "source": []
  },
  {
   "cell_type": "code",
   "execution_count": null,
   "id": "b0091d7f-6d8d-4886-96c4-1c9397f71aff",
   "metadata": {},
   "outputs": [],
   "source": []
  }
 ],
 "metadata": {
  "kernelspec": {
   "display_name": "Python 3 (ipykernel)",
   "language": "python",
   "name": "python3"
  },
  "language_info": {
   "codemirror_mode": {
    "name": "ipython",
    "version": 3
   },
   "file_extension": ".py",
   "mimetype": "text/x-python",
   "name": "python",
   "nbconvert_exporter": "python",
   "pygments_lexer": "ipython3",
   "version": "3.12.4"
  }
 },
 "nbformat": 4,
 "nbformat_minor": 5
}
